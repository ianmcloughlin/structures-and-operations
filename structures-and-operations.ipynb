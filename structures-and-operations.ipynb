{
 "cells": [
  {
   "cell_type": "markdown",
   "id": "0c3400ed",
   "metadata": {},
   "source": [
    "# Graph Isomorphism\n",
    "\n",
    "***"
   ]
  },
  {
   "cell_type": "code",
   "execution_count": 1,
   "id": "3b0a9401",
   "metadata": {},
   "outputs": [],
   "source": [
    "# Matrices.\n",
    "import numpy as np"
   ]
  },
  {
   "cell_type": "code",
   "execution_count": 2,
   "id": "b56e1bb9",
   "metadata": {},
   "outputs": [],
   "source": [
    "# Permutations\n",
    "import itertools as it"
   ]
  },
  {
   "cell_type": "code",
   "execution_count": 3,
   "id": "968ee1f9",
   "metadata": {},
   "outputs": [],
   "source": [
    "# Graphs.\n",
    "import networkx as nx"
   ]
  },
  {
   "cell_type": "markdown",
   "id": "7606122c",
   "metadata": {},
   "source": [
    "<br>\n",
    "\n",
    "## Graphs\n",
    "\n",
    "***"
   ]
  },
  {
   "cell_type": "code",
   "execution_count": 4,
   "id": "e3ef8f1a",
   "metadata": {},
   "outputs": [
    {
     "data": {
      "image/png": "[encoded data removed]",
      "text/plain": [
       "<Figure size 432x288 with 1 Axes>"
      ]
     },
     "metadata": {},
     "output_type": "display_data"
    }
   ],
   "source": [
    "G = nx.Graph()\n",
    "e = [('a', 'b'), ('b', 'c'), ('a', 'c')]\n",
    "G.add_edges_from(e)\n",
    "nx.draw(G, with_labels=True, node_color='deepskyblue')"
   ]
  },
  {
   "cell_type": "code",
   "execution_count": 5,
   "id": "87ae2543",
   "metadata": {},
   "outputs": [
    {
     "data": {
      "text/plain": [
       "array([[0, 1, 1],\n",
       "       [1, 0, 1],\n",
       "       [1, 1, 0]], dtype=uint8)"
      ]
     },
     "execution_count": 5,
     "metadata": {},
     "output_type": "execute_result"
    }
   ],
   "source": [
    "A = nx.to_numpy_array(G).astype(np.uint8)\n",
    "A"
   ]
  },
  {
   "cell_type": "markdown",
   "id": "7794fab0",
   "metadata": {},
   "source": [
    "<br>\n",
    "\n",
    "## Matrices\n",
    "\n",
    "***"
   ]
  },
  {
   "cell_type": "code",
   "execution_count": 6,
   "id": "23d070db",
   "metadata": {},
   "outputs": [],
   "source": [
    "def mprint(A):\n",
    "    for r in A:\n",
    "        print(str(r)[1:-1])\n",
    "    print()"
   ]
  },
  {
   "cell_type": "code",
   "execution_count": 7,
   "id": "113524ca",
   "metadata": {},
   "outputs": [
    {
     "name": "stdout",
     "output_type": "stream",
     "text": [
      "[(0, 1, 2), (0, 2, 1), (1, 0, 2), (1, 2, 0), (2, 0, 1), (2, 1, 0)]\n"
     ]
    }
   ],
   "source": [
    "perms = it.permutations(range(len(A)))\n",
    "print(list(perms))"
   ]
  },
  {
   "cell_type": "code",
   "execution_count": 8,
   "id": "2ea1ecbe",
   "metadata": {},
   "outputs": [
    {
     "name": "stdout",
     "output_type": "stream",
     "text": [
      "1 0 0\n",
      "0 1 0\n",
      "0 0 1\n",
      "\n",
      "1 0 0\n",
      "0 0 1\n",
      "0 1 0\n",
      "\n",
      "0 1 0\n",
      "1 0 0\n",
      "0 0 1\n",
      "\n",
      "0 1 0\n",
      "0 0 1\n",
      "1 0 0\n",
      "\n",
      "0 0 1\n",
      "1 0 0\n",
      "0 1 0\n",
      "\n",
      "0 0 1\n",
      "0 1 0\n",
      "1 0 0\n",
      "\n"
     ]
    }
   ],
   "source": [
    "perms = it.permutations(range(len(A)))\n",
    "I = np.identity(len(A)).astype(np.uint8)\n",
    "for p in perms:\n",
    "    mprint(I[list(p)])"
   ]
  },
  {
   "cell_type": "code",
   "execution_count": null,
   "id": "22495c55",
   "metadata": {},
   "outputs": [],
   "source": []
  },
  {
   "cell_type": "code",
   "execution_count": null,
   "id": "9042a365",
   "metadata": {},
   "outputs": [],
   "source": []
  }
 ],
 "metadata": {
  "kernelspec": {
   "display_name": "Python 3 (ipykernel)",
   "language": "python",
   "name": "python3"
  },
  "language_info": {
   "codemirror_mode": {
    "name": "ipython",
    "version": 3
   },
   "file_extension": ".py",
   "mimetype": "text/x-python",
   "name": "python",
   "nbconvert_exporter": "python",
   "pygments_lexer": "ipython3",
   "version": "3.9.10"
  }
 },
 "nbformat": 4,
 "nbformat_minor": 5
}
